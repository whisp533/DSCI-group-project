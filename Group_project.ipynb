{
 "cells": [
  {
   "cell_type": "markdown",
   "id": "f0ee4d36-62d6-4259-82e4-fc6af68206a7",
   "metadata": {},
   "source": [
    "**Introduction**\n",
    "-"
   ]
  },
  {
   "cell_type": "markdown",
   "id": "30fc9358-f38b-4b41-81ab-2657ac462936",
   "metadata": {},
   "source": [
    "**Methods and Results**\n",
    "-"
   ]
  },
  {
   "cell_type": "code",
   "execution_count": 1,
   "id": "22302821-ff97-4460-900c-89b9cc8c50e6",
   "metadata": {},
   "outputs": [
    {
     "name": "stderr",
     "output_type": "stream",
     "text": [
      "── \u001b[1mAttaching core tidyverse packages\u001b[22m ──────────────────────── tidyverse 2.0.0 ──\n",
      "\u001b[32m✔\u001b[39m \u001b[34mdplyr    \u001b[39m 1.1.4     \u001b[32m✔\u001b[39m \u001b[34mreadr    \u001b[39m 2.1.5\n",
      "\u001b[32m✔\u001b[39m \u001b[34mforcats  \u001b[39m 1.0.0     \u001b[32m✔\u001b[39m \u001b[34mstringr  \u001b[39m 1.5.1\n",
      "\u001b[32m✔\u001b[39m \u001b[34mggplot2  \u001b[39m 3.5.1     \u001b[32m✔\u001b[39m \u001b[34mtibble   \u001b[39m 3.2.1\n",
      "\u001b[32m✔\u001b[39m \u001b[34mlubridate\u001b[39m 1.9.3     \u001b[32m✔\u001b[39m \u001b[34mtidyr    \u001b[39m 1.3.1\n",
      "\u001b[32m✔\u001b[39m \u001b[34mpurrr    \u001b[39m 1.0.2     \n",
      "── \u001b[1mConflicts\u001b[22m ────────────────────────────────────────── tidyverse_conflicts() ──\n",
      "\u001b[31m✖\u001b[39m \u001b[34mdplyr\u001b[39m::\u001b[32mfilter()\u001b[39m masks \u001b[34mstats\u001b[39m::filter()\n",
      "\u001b[31m✖\u001b[39m \u001b[34mdplyr\u001b[39m::\u001b[32mlag()\u001b[39m    masks \u001b[34mstats\u001b[39m::lag()\n",
      "\u001b[36mℹ\u001b[39m Use the conflicted package (\u001b[3m\u001b[34m<http://conflicted.r-lib.org/>\u001b[39m\u001b[23m) to force all conflicts to become errors\n",
      "── \u001b[1mAttaching packages\u001b[22m ────────────────────────────────────── tidymodels 1.1.1 ──\n",
      "\n",
      "\u001b[32m✔\u001b[39m \u001b[34mbroom       \u001b[39m 1.0.6     \u001b[32m✔\u001b[39m \u001b[34mrsample     \u001b[39m 1.2.1\n",
      "\u001b[32m✔\u001b[39m \u001b[34mdials       \u001b[39m 1.3.0     \u001b[32m✔\u001b[39m \u001b[34mtune        \u001b[39m 1.1.2\n",
      "\u001b[32m✔\u001b[39m \u001b[34minfer       \u001b[39m 1.0.7     \u001b[32m✔\u001b[39m \u001b[34mworkflows   \u001b[39m 1.1.4\n",
      "\u001b[32m✔\u001b[39m \u001b[34mmodeldata   \u001b[39m 1.4.0     \u001b[32m✔\u001b[39m \u001b[34mworkflowsets\u001b[39m 1.0.1\n",
      "\u001b[32m✔\u001b[39m \u001b[34mparsnip     \u001b[39m 1.2.1     \u001b[32m✔\u001b[39m \u001b[34myardstick   \u001b[39m 1.3.1\n",
      "\u001b[32m✔\u001b[39m \u001b[34mrecipes     \u001b[39m 1.1.0     \n",
      "\n",
      "── \u001b[1mConflicts\u001b[22m ───────────────────────────────────────── tidymodels_conflicts() ──\n",
      "\u001b[31m✖\u001b[39m \u001b[34mscales\u001b[39m::\u001b[32mdiscard()\u001b[39m masks \u001b[34mpurrr\u001b[39m::discard()\n",
      "\u001b[31m✖\u001b[39m \u001b[34mdplyr\u001b[39m::\u001b[32mfilter()\u001b[39m   masks \u001b[34mstats\u001b[39m::filter()\n",
      "\u001b[31m✖\u001b[39m \u001b[34mrecipes\u001b[39m::\u001b[32mfixed()\u001b[39m  masks \u001b[34mstringr\u001b[39m::fixed()\n",
      "\u001b[31m✖\u001b[39m \u001b[34mdplyr\u001b[39m::\u001b[32mlag()\u001b[39m      masks \u001b[34mstats\u001b[39m::lag()\n",
      "\u001b[31m✖\u001b[39m \u001b[34myardstick\u001b[39m::\u001b[32mspec()\u001b[39m masks \u001b[34mreadr\u001b[39m::spec()\n",
      "\u001b[31m✖\u001b[39m \u001b[34mrecipes\u001b[39m::\u001b[32mstep()\u001b[39m   masks \u001b[34mstats\u001b[39m::step()\n",
      "\u001b[34m•\u001b[39m Learn how to get started at \u001b[32mhttps://www.tidymodels.org/start/\u001b[39m\n",
      "\n"
     ]
    }
   ],
   "source": [
    "#Loading in the libraries\n",
    "library(tidyverse)\n",
    "library(repr)\n",
    "library(tidymodels)\n",
    "options(repr.matrix.max.rows = 6)"
   ]
  },
  {
   "cell_type": "code",
   "execution_count": 3,
   "id": "276fea00-9240-4bcc-9452-8887470df76e",
   "metadata": {},
   "outputs": [
    {
     "name": "stderr",
     "output_type": "stream",
     "text": [
      "\u001b[1mRows: \u001b[22m\u001b[34m196\u001b[39m \u001b[1mColumns: \u001b[22m\u001b[34m9\u001b[39m\n",
      "\u001b[36m──\u001b[39m \u001b[1mColumn specification\u001b[22m \u001b[36m────────────────────────────────────────────────────────\u001b[39m\n",
      "\u001b[1mDelimiter:\u001b[22m \",\"\n",
      "\u001b[31mchr\u001b[39m (4): experience, hashedEmail, name, gender\n",
      "\u001b[32mdbl\u001b[39m (2): played_hours, age\n",
      "\u001b[33mlgl\u001b[39m (3): subscribe, individualId, organizationName\n",
      "\n",
      "\u001b[36mℹ\u001b[39m Use `spec()` to retrieve the full column specification for this data.\n",
      "\u001b[36mℹ\u001b[39m Specify the column types or set `show_col_types = FALSE` to quiet this message.\n",
      "\u001b[1mRows: \u001b[22m\u001b[34m1535\u001b[39m \u001b[1mColumns: \u001b[22m\u001b[34m5\u001b[39m\n",
      "\u001b[36m──\u001b[39m \u001b[1mColumn specification\u001b[22m \u001b[36m────────────────────────────────────────────────────────\u001b[39m\n",
      "\u001b[1mDelimiter:\u001b[22m \",\"\n",
      "\u001b[31mchr\u001b[39m (3): hashedEmail, start_time, end_time\n",
      "\u001b[32mdbl\u001b[39m (2): original_start_time, original_end_time\n",
      "\n",
      "\u001b[36mℹ\u001b[39m Use `spec()` to retrieve the full column specification for this data.\n",
      "\u001b[36mℹ\u001b[39m Specify the column types or set `show_col_types = FALSE` to quiet this message.\n"
     ]
    }
   ],
   "source": [
    "#Reading in the files\n",
    "\n",
    "p <- \"https://drive.google.com/uc?export=download&id=1Mw9vW0hjTJwRWx0bDXiSpYsO3gKogaPz\"\n",
    "s <- \"https://drive.google.com/uc?export=download&id=14O91N5OlVkvdGxXNJUj5jIsV5RexhzbB\"\n",
    "\n",
    "player <- read_csv(p)\n",
    "session <- read_csv(s)"
   ]
  },
  {
   "cell_type": "code",
   "execution_count": 7,
   "id": "9020073e-4212-478c-8b69-173a2816045e",
   "metadata": {},
   "outputs": [
    {
     "data": {
      "text/html": [
       "<table class=\"dataframe\">\n",
       "<caption>A data.frame: 1521 × 6</caption>\n",
       "<thead>\n",
       "\t<tr><th scope=col>experience</th><th scope=col>played_hours</th><th scope=col>age</th><th scope=col>session_playtime</th><th scope=col>hashedEmail</th><th scope=col>gender</th></tr>\n",
       "\t<tr><th scope=col>&lt;chr&gt;</th><th scope=col>&lt;dbl&gt;</th><th scope=col>&lt;dbl&gt;</th><th scope=col>&lt;drtn&gt;</th><th scope=col>&lt;chr&gt;</th><th scope=col>&lt;chr&gt;</th></tr>\n",
       "</thead>\n",
       "<tbody>\n",
       "\t<tr><td>Regular</td><td>1.5</td><td>20</td><td>45 mins</td><td>0088b5e134c3f0498a18c7ea6b8d77b4b0ff1636fc93355ccc95b45423367832</td><td>Male</td></tr>\n",
       "\t<tr><td>Regular</td><td>1.5</td><td>20</td><td>61 mins</td><td>0088b5e134c3f0498a18c7ea6b8d77b4b0ff1636fc93355ccc95b45423367832</td><td>Male</td></tr>\n",
       "\t<tr><td>Pro    </td><td>0.4</td><td>21</td><td>30 mins</td><td>060aca80f8cfbf1c91553a72f4d5ec8034764b05ab59fe8e1cf0eee9a7b67967</td><td>Male</td></tr>\n",
       "\t<tr><td>⋮</td><td>⋮</td><td>⋮</td><td>⋮</td><td>⋮</td><td>⋮</td></tr>\n",
       "\t<tr><td>Amateur </td><td>56.1</td><td>23</td><td>21 mins</td><td>fd6563a4e0f6f4273580e5fedbd8dda64990447aea5a33cbb5e894a3867ca44d</td><td>Male</td></tr>\n",
       "\t<tr><td>Amateur </td><td> 0.1</td><td>17</td><td> 9 mins</td><td>fe218a05c6c3fc6326f4f151e8cb75a2a9fa29e22b110d4c311fb58fb211f471</td><td>Male</td></tr>\n",
       "\t<tr><td>Beginner</td><td> 1.1</td><td>20</td><td>72 mins</td><td>fef4e1bed8c3f6dcd7bcd39ab21bd402386155b2ff8c8e53683e1d2793bf1ed1</td><td>Male</td></tr>\n",
       "</tbody>\n",
       "</table>\n"
      ],
      "text/latex": [
       "A data.frame: 1521 × 6\n",
       "\\begin{tabular}{llllll}\n",
       " experience & played\\_hours & age & session\\_playtime & hashedEmail & gender\\\\\n",
       " <chr> & <dbl> & <dbl> & <drtn> & <chr> & <chr>\\\\\n",
       "\\hline\n",
       "\t Regular & 1.5 & 20 & 45 mins & 0088b5e134c3f0498a18c7ea6b8d77b4b0ff1636fc93355ccc95b45423367832 & Male\\\\\n",
       "\t Regular & 1.5 & 20 & 61 mins & 0088b5e134c3f0498a18c7ea6b8d77b4b0ff1636fc93355ccc95b45423367832 & Male\\\\\n",
       "\t Pro     & 0.4 & 21 & 30 mins & 060aca80f8cfbf1c91553a72f4d5ec8034764b05ab59fe8e1cf0eee9a7b67967 & Male\\\\\n",
       "\t ⋮ & ⋮ & ⋮ & ⋮ & ⋮ & ⋮\\\\\n",
       "\t Amateur  & 56.1 & 23 & 21 mins & fd6563a4e0f6f4273580e5fedbd8dda64990447aea5a33cbb5e894a3867ca44d & Male\\\\\n",
       "\t Amateur  &  0.1 & 17 &  9 mins & fe218a05c6c3fc6326f4f151e8cb75a2a9fa29e22b110d4c311fb58fb211f471 & Male\\\\\n",
       "\t Beginner &  1.1 & 20 & 72 mins & fef4e1bed8c3f6dcd7bcd39ab21bd402386155b2ff8c8e53683e1d2793bf1ed1 & Male\\\\\n",
       "\\end{tabular}\n"
      ],
      "text/markdown": [
       "\n",
       "A data.frame: 1521 × 6\n",
       "\n",
       "| experience &lt;chr&gt; | played_hours &lt;dbl&gt; | age &lt;dbl&gt; | session_playtime &lt;drtn&gt; | hashedEmail &lt;chr&gt; | gender &lt;chr&gt; |\n",
       "|---|---|---|---|---|---|\n",
       "| Regular | 1.5 | 20 | 45 mins | 0088b5e134c3f0498a18c7ea6b8d77b4b0ff1636fc93355ccc95b45423367832 | Male |\n",
       "| Regular | 1.5 | 20 | 61 mins | 0088b5e134c3f0498a18c7ea6b8d77b4b0ff1636fc93355ccc95b45423367832 | Male |\n",
       "| Pro     | 0.4 | 21 | 30 mins | 060aca80f8cfbf1c91553a72f4d5ec8034764b05ab59fe8e1cf0eee9a7b67967 | Male |\n",
       "| ⋮ | ⋮ | ⋮ | ⋮ | ⋮ | ⋮ |\n",
       "| Amateur  | 56.1 | 23 | 21 mins | fd6563a4e0f6f4273580e5fedbd8dda64990447aea5a33cbb5e894a3867ca44d | Male |\n",
       "| Amateur  |  0.1 | 17 |  9 mins | fe218a05c6c3fc6326f4f151e8cb75a2a9fa29e22b110d4c311fb58fb211f471 | Male |\n",
       "| Beginner |  1.1 | 20 | 72 mins | fef4e1bed8c3f6dcd7bcd39ab21bd402386155b2ff8c8e53683e1d2793bf1ed1 | Male |\n",
       "\n"
      ],
      "text/plain": [
       "     experience played_hours age session_playtime\n",
       "1    Regular    1.5          20  45 mins         \n",
       "2    Regular    1.5          20  61 mins         \n",
       "3    Pro        0.4          21  30 mins         \n",
       "⋮    ⋮          ⋮            ⋮   ⋮               \n",
       "1519 Amateur    56.1         23  21 mins         \n",
       "1520 Amateur     0.1         17   9 mins         \n",
       "1521 Beginner    1.1         20  72 mins         \n",
       "     hashedEmail                                                      gender\n",
       "1    0088b5e134c3f0498a18c7ea6b8d77b4b0ff1636fc93355ccc95b45423367832 Male  \n",
       "2    0088b5e134c3f0498a18c7ea6b8d77b4b0ff1636fc93355ccc95b45423367832 Male  \n",
       "3    060aca80f8cfbf1c91553a72f4d5ec8034764b05ab59fe8e1cf0eee9a7b67967 Male  \n",
       "⋮    ⋮                                                                ⋮     \n",
       "1519 fd6563a4e0f6f4273580e5fedbd8dda64990447aea5a33cbb5e894a3867ca44d Male  \n",
       "1520 fe218a05c6c3fc6326f4f151e8cb75a2a9fa29e22b110d4c311fb58fb211f471 Male  \n",
       "1521 fef4e1bed8c3f6dcd7bcd39ab21bd402386155b2ff8c8e53683e1d2793bf1ed1 Male  "
      ]
     },
     "metadata": {},
     "output_type": "display_data"
    }
   ],
   "source": [
    "#Data tidying, will add more later\n",
    "\n",
    "Tidying <- merge(player, session, by = 'hashedEmail', all = TRUE) |>\n",
    "select(-organizationName, -individualId, -name, -subscribe)\n",
    "\n",
    "seshselect <- Tidying |>\n",
    "mutate(start_time = as.POSIXct(start_time, format = \"%d/%m/%Y %H:%M\")) |>\n",
    "mutate(end_time = as.POSIXct(end_time, format = \"%d/%m/%Y %H:%M\"))\n",
    "\n",
    "seshdiff <- seshselect |>\n",
    "mutate(session_playtime = difftime(end_time, start_time, units = 'mins')) |>\n",
    "filter(played_hours != 0)\n",
    "\n",
    "sesh_diff_final <- seshdiff |>\n",
    "select(experience, played_hours, age, session_playtime, hashedEmail, gender)\n",
    "sesh_diff_final"
   ]
  },
  {
   "cell_type": "markdown",
   "id": "32cb5a9c-364e-4be5-bac9-c17fae485f58",
   "metadata": {},
   "source": [
    "**Discussion**\n",
    "-"
   ]
  },
  {
   "cell_type": "markdown",
   "id": "70114f79-e769-4171-9df9-a9e91969324f",
   "metadata": {},
   "source": [
    "**References**\n",
    "-"
   ]
  },
  {
   "cell_type": "code",
   "execution_count": null,
   "id": "24f097d6-5de8-4fdb-ac98-3775d3aa7eea",
   "metadata": {},
   "outputs": [],
   "source": []
  }
 ],
 "metadata": {
  "kernelspec": {
   "display_name": "R",
   "language": "R",
   "name": "ir"
  },
  "language_info": {
   "codemirror_mode": "r",
   "file_extension": ".r",
   "mimetype": "text/x-r-source",
   "name": "R",
   "pygments_lexer": "r",
   "version": "4.3.3"
  }
 },
 "nbformat": 4,
 "nbformat_minor": 5
}
